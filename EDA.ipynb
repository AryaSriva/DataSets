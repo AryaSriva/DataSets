{
 "cells": [
  {
   "cell_type": "code",
   "execution_count": 1,
   "metadata": {},
   "outputs": [
    {
     "name": "stdout",
     "output_type": "stream",
     "text": [
      "        Transaction ID  Date of Travel     Company           City  \\\n",
      "0             10000011           42377    Pink Cab     ATLANTA GA   \n",
      "1             10000012           42375    Pink Cab     ATLANTA GA   \n",
      "2             10000013           42371    Pink Cab     ATLANTA GA   \n",
      "3             10000014           42376    Pink Cab     ATLANTA GA   \n",
      "4             10000015           42372    Pink Cab     ATLANTA GA   \n",
      "...                ...             ...         ...            ...   \n",
      "359387        10440101           43108  Yellow Cab  WASHINGTON DC   \n",
      "359388        10440104           43104  Yellow Cab  WASHINGTON DC   \n",
      "359389        10440105           43105  Yellow Cab  WASHINGTON DC   \n",
      "359390        10440106           43105  Yellow Cab  WASHINGTON DC   \n",
      "359391        10440107           43102  Yellow Cab  WASHINGTON DC   \n",
      "\n",
      "        KM Travelled  Price Charged  Cost of Trip  Customer ID Payment_Mode  \\\n",
      "0              30.45         370.95      313.6350        29290         Card   \n",
      "1              28.62         358.52      334.8540        27703         Card   \n",
      "2               9.04         125.20       97.6320        28712         Cash   \n",
      "3              33.17         377.40      351.6020        28020         Cash   \n",
      "4               8.73         114.62       97.7760        27182         Card   \n",
      "...              ...            ...           ...          ...          ...   \n",
      "359387          4.80          69.24       63.3600        52392         Cash   \n",
      "359388          8.40         113.75      106.8480        53286         Cash   \n",
      "359389         27.75         437.07      349.6500        52265         Cash   \n",
      "359390          8.80         146.19      114.0480        52175         Card   \n",
      "359391         12.76         191.58      177.6192        52917         Card   \n",
      "\n",
      "       Gender  Age  Income (USD/Month) Population      Users  \n",
      "0        Male   28               10813   814,885     24,701   \n",
      "1        Male   27                9237   814,885     24,701   \n",
      "2        Male   53               11242   814,885     24,701   \n",
      "3        Male   23               23327   814,885     24,701   \n",
      "4        Male   33                8536   814,885     24,701   \n",
      "...       ...  ...                 ...        ...        ...  \n",
      "359387   Male   24               15651   418,859    127,001   \n",
      "359388   Male   32                6528   418,859    127,001   \n",
      "359389   Male   56                7966   418,859    127,001   \n",
      "359390   Male   32                6423   418,859    127,001   \n",
      "359391   Male   20               11284   418,859    127,001   \n",
      "\n",
      "[359392 rows x 14 columns]\n"
     ]
    }
   ],
   "source": [
    "import pandas as pd\n",
    "#import files into DataFrames using pandas\n",
    "cabData = pd.read_csv('Cab_Data.csv')\n",
    "cityData = pd.read_csv('City.csv')\n",
    "customerData = pd.read_csv('Customer_ID.csv')\n",
    "transactionData = pd.read_csv('Transaction_ID.csv')\n",
    "transactionData = transactionData.merge(customerData, on=\"Customer ID\", how='left')\n",
    "cabData = cabData.merge(transactionData, on=\"Transaction ID\", how=\"left\")\n",
    "cabData = cabData.merge(cityData, on=\"City\", how=\"left\")\n",
    "print(cabData)"
   ]
  }
 ],
 "metadata": {
  "kernelspec": {
   "display_name": "Python 3",
   "language": "python",
   "name": "python3"
  },
  "language_info": {
   "codemirror_mode": {
    "name": "ipython",
    "version": 3
   },
   "file_extension": ".py",
   "mimetype": "text/x-python",
   "name": "python",
   "nbconvert_exporter": "python",
   "pygments_lexer": "ipython3",
   "version": "3.12.1"
  }
 },
 "nbformat": 4,
 "nbformat_minor": 2
}
